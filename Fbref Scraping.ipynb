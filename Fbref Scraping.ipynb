{
 "cells": [
  {
   "cell_type": "code",
   "execution_count": 12,
   "id": "fd66742f",
   "metadata": {},
   "outputs": [],
   "source": [
    "from urllib.request import urlopen\n",
    "import requests\n",
    "from bs4 import BeautifulSoup as bts\n",
    "import pandas as pd\n",
    "import re\n",
    "import time\n",
    "import sys\n",
    "from datetime import datetime\n",
    "from datetime import date\n",
    "import simplejson as json"
   ]
  },
  {
   "cell_type": "code",
   "execution_count": 13,
   "id": "12407ef4",
   "metadata": {},
   "outputs": [],
   "source": [
    "def getAndParseURL(url):\n",
    "    #result = requests.get(url,headers = {\"User-Agent\": 'Mozilla/5.0'})\n",
    "    #result = requests.get(url,headers = {'User-Agent': 'Mozilla/5.0 (Windows NT 10.0; Win64; x64) AppleWebKit/537.36 (KHTML, like Gecko) Chrome/73.0.3683.103 Safari/537.36'})\n",
    "    result = requests.get(url,headers = {'User-Agent': 'Mozilla/5.0 (Macintosh; Intel Mac OS X 10_10_1) AppleWebKit/537.36 (KHTML, like Gecko) Chrome/73.0.3683.103 Safari/537.36'})\n",
    "    soup = bts(result.text, 'html.parser')\n",
    "    return soup"
   ]
  },
  {
   "cell_type": "code",
   "execution_count": 54,
   "id": "0951aaa7",
   "metadata": {},
   "outputs": [
    {
     "data": {
      "text/plain": [
       "{'home_score': '3',\n",
       " 'home_xG': '1.5',\n",
       " 'home_manager': 'Erik ten Hag',\n",
       " 'home_captain': 'Bruno Fernandes',\n",
       " 'away_manager': 'Mikel Arteta',\n",
       " 'away_captain': 'Martin Ødegaard'}"
      ]
     },
     "execution_count": 54,
     "metadata": {},
     "output_type": "execute_result"
    }
   ],
   "source": [
    "match_details = dict()\n",
    "\n",
    "html = getAndParseURL('https://fbref.com/en/matches/61ddafa5/Manchester-United-Arsenal-September-4-2022-Premier-League')\n",
    "\n",
    "#Scraping the score of home team\n",
    "for home_score in html.find(\"div\",{\"class\":\"scores\"}).find_next('div'):\n",
    "    match_details[\"home_score\"] = home_score.text\n",
    "    \n",
    "#Scraping the expected goal of home team\n",
    "for home_xG in html.find(\"div\",{\"class\":\"scores\"}).find_next('div').find_next('div'):\n",
    "    match_details[\"home_xG\"] = home_xG.text\n",
    "\n",
    "#Scraping the name of the managers and captains of both sides\n",
    "datapoint_list = list()\n",
    "for home_manager in html.find_all(\"div\",{\"class\":\"datapoint\"}):\n",
    "    datapoint_list.append(home_manager.text)\n",
    "home_manager_name_list = datapoint_list[0].split()\n",
    "home_manager_name = str()\n",
    "for i in range(1,len(home_manager_name_list)):\n",
    "    home_manager_name += str(home_manager_name_list[i])\n",
    "    home_manager_name += \" \"\n",
    "match_details[\"home_manager\"] = home_manager_name[:-1]\n",
    "home_captain_name_list = datapoint_list[1].split()\n",
    "home_captain_name = str()\n",
    "for i in range(1,len(home_captain_name_list)):\n",
    "    home_captain_name += str(home_captain_name_list[i])\n",
    "    home_captain_name += \" \"\n",
    "match_details[\"home_captain\"] = home_captain_name[:-1]\n",
    "away_manager_name_list = datapoint_list[2].split()\n",
    "away_manager_name = str()\n",
    "for i in range(1,len(away_manager_name_list)):\n",
    "    away_manager_name += str(away_manager_name_list[i])\n",
    "    away_manager_name += \" \"\n",
    "match_details[\"away_manager\"] = away_manager_name[:-1]\n",
    "away_captain_name_list = datapoint_list[3].split()\n",
    "away_captain_name = str()\n",
    "for i in range(1,len(away_captain_name_list)):\n",
    "    away_captain_name += str(away_captain_name_list[i])\n",
    "    away_captain_name += \" \"\n",
    "match_details[\"away_captain\"] = away_captain_name[:-1]\n",
    "\n",
    "match_details"
   ]
  },
  {
   "cell_type": "code",
   "execution_count": null,
   "id": "053ce46f",
   "metadata": {},
   "outputs": [],
   "source": []
  },
  {
   "cell_type": "code",
   "execution_count": null,
   "id": "f65eba6b",
   "metadata": {},
   "outputs": [],
   "source": []
  },
  {
   "cell_type": "code",
   "execution_count": null,
   "id": "f847e9bb",
   "metadata": {},
   "outputs": [],
   "source": []
  }
 ],
 "metadata": {
  "kernelspec": {
   "display_name": "Python 3 (ipykernel)",
   "language": "python",
   "name": "python3"
  },
  "language_info": {
   "codemirror_mode": {
    "name": "ipython",
    "version": 3
   },
   "file_extension": ".py",
   "mimetype": "text/x-python",
   "name": "python",
   "nbconvert_exporter": "python",
   "pygments_lexer": "ipython3",
   "version": "3.9.12"
  }
 },
 "nbformat": 4,
 "nbformat_minor": 5
}
