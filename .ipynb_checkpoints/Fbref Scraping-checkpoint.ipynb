{
 "cells": [
  {
   "cell_type": "code",
   "execution_count": 12,
   "id": "67b7552c",
   "metadata": {},
   "outputs": [],
   "source": [
    "from urllib.request import urlopen\n",
    "import requests\n",
    "from bs4 import BeautifulSoup as bts\n",
    "import pandas as pd\n",
    "import re\n",
    "import time\n",
    "import sys\n",
    "from datetime import datetime\n",
    "from datetime import date\n",
    "import simplejson as json"
   ]
  },
  {
   "cell_type": "code",
   "execution_count": 13,
   "id": "fac643dd",
   "metadata": {},
   "outputs": [],
   "source": [
    "def getAndParseURL(url):\n",
    "    #result = requests.get(url,headers = {\"User-Agent\": 'Mozilla/5.0'})\n",
    "    #result = requests.get(url,headers = {'User-Agent': 'Mozilla/5.0 (Windows NT 10.0; Win64; x64) AppleWebKit/537.36 (KHTML, like Gecko) Chrome/73.0.3683.103 Safari/537.36'})\n",
    "    result = requests.get(url,headers = {'User-Agent': 'Mozilla/5.0 (Macintosh; Intel Mac OS X 10_10_1) AppleWebKit/537.36 (KHTML, like Gecko) Chrome/73.0.3683.103 Safari/537.36'})\n",
    "    soup = bts(result.text, 'html.parser')\n",
    "    return soup"
   ]
  },
  {
   "cell_type": "code",
   "execution_count": 46,
   "id": "4397648f",
   "metadata": {},
   "outputs": [
    {
     "data": {
      "text/plain": [
       "{'home_score': '3', 'home_xG': '1.5', 'home_manager': 'Erik ten Hag'}"
      ]
     },
     "execution_count": 46,
     "metadata": {},
     "output_type": "execute_result"
    }
   ],
   "source": [
    "match_details = dict()\n",
    "\n",
    "html = getAndParseURL('https://fbref.com/en/matches/61ddafa5/Manchester-United-Arsenal-September-4-2022-Premier-League')\n",
    "\n",
    "for home_score in html.find(\"div\",{\"class\":\"scores\"}).find_next('div'):\n",
    "    match_details[\"home_score\"] = home_score.text\n",
    "for home_xG in html.find(\"div\",{\"class\":\"scores\"}).find_next('div').find_next('div'):\n",
    "    match_details[\"home_xG\"] = home_xG.text\n",
    "for home_manager in html.find(\"div\",{\"class\":\"datapoint\"}):\n",
    "    manager_name_list = home_manager.text.split()\n",
    "    manager_name = str()\n",
    "    for i in range(1,len(manager_name_list)):\n",
    "        manager_name += str(manager_name_list[i])\n",
    "        manager_name += \" \"\n",
    "    match_details[\"home_manager\"] = manager_name[:-1]\n",
    "match_details"
   ]
  },
  {
   "cell_type": "code",
   "execution_count": null,
   "id": "d965c24c",
   "metadata": {},
   "outputs": [],
   "source": [
    "datapoint"
   ]
  },
  {
   "cell_type": "code",
   "execution_count": null,
   "id": "2f33bd32",
   "metadata": {},
   "outputs": [],
   "source": []
  }
 ],
 "metadata": {
  "kernelspec": {
   "display_name": "Python 3 (ipykernel)",
   "language": "python",
   "name": "python3"
  },
  "language_info": {
   "codemirror_mode": {
    "name": "ipython",
    "version": 3
   },
   "file_extension": ".py",
   "mimetype": "text/x-python",
   "name": "python",
   "nbconvert_exporter": "python",
   "pygments_lexer": "ipython3",
   "version": "3.9.12"
  }
 },
 "nbformat": 4,
 "nbformat_minor": 5
}
